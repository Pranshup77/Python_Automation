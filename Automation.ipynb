{
  "cells": [
    {
      "cell_type": "code",
      "source": [
        "import pandas as pd\n",
        "import numpy as np\n",
        "import matplotlib.pyplot as plt\n",
        "\n",
        "excel_file_1 = 'shift-data.xlsx'\n",
        "excel_file_2 = 'third-shift-data.xlsx'"
      ],
      "metadata": {
        "id": "WkTYHAjaqI9j"
      },
      "execution_count": 6,
      "outputs": []
    },
    {
      "cell_type": "code",
      "source": [
        "df_first_shift = pd.read_excel(excel_file_1,sheet_name='first')\n",
        "df_second_shift = pd.read_excel(excel_file_1,sheet_name='second')\n",
        "df_third_shift = pd.read_excel(excel_file_2)"
      ],
      "metadata": {
        "id": "EgnZrHGCqRAU"
      },
      "execution_count": 8,
      "outputs": []
    },
    {
      "cell_type": "code",
      "source": [],
      "metadata": {
        "id": "8ZaxBcOYrtsa"
      },
      "execution_count": null,
      "outputs": []
    }
  ],
  "metadata": {
    "colab": {
      "provenance": []
    },
    "kernelspec": {
      "display_name": "Python 3",
      "name": "python3"
    },
    "language_info": {
      "name": "python"
    }
  },
  "nbformat": 4,
  "nbformat_minor": 0
}