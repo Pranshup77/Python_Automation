{
  "cells": [
    {
      "cell_type": "code",
      "source": [
        "import pandas as pd\n",
        "import numpy as np\n",
        "import matplotlib.pyplot as plt\n",
        "\n",
        "excel_file_1 = 'shift-data.xlsx'\n",
        "excel_file_2 = 'third-shift-data.xlsx'"
      ],
      "metadata": {
        "id": "WkTYHAjaqI9j"
      },
      "execution_count": 6,
      "outputs": []
    },
    {
      "cell_type": "code",
      "source": [
        "df_first_shift = pd.read_excel(excel_file_1,sheet_name='first')\n",
        "df_second_shift = pd.read_excel(excel_file_1,sheet_name='second')\n",
        "df_third_shift = pd.read_excel(excel_file_2)"
      ],
      "metadata": {
        "id": "EgnZrHGCqRAU"
      },
      "execution_count": 8,
      "outputs": []
    },
    {
      "cell_type": "code",
      "source": [
        "print(df_first_shift)"
      ],
      "metadata": {
        "colab": {
          "base_uri": "https://localhost:8080/"
        },
        "id": "8ZaxBcOYrtsa",
        "outputId": "b77b6ddb-3f9c-402d-b350-256a553b9aa1"
      },
      "execution_count": 12,
      "outputs": [
        {
          "output_type": "stream",
          "name": "stdout",
          "text": [
            "    Shift  Clock Number      Name    Product  Production Run Time (Min)  \\\n",
            "0       1        123654      Pete  Pepperoni                         46   \n",
            "1       1        123498     Abdul     Cheese                         56   \n",
            "2       1        123999      Emma   Mushroom                         42   \n",
            "3       1        123654      Pete  Pepperoni                         47   \n",
            "4       1        123498     Abdul   Mushroom                         54   \n",
            "5       1        123865  Mohammed     Cheese                         55   \n",
            "6       1        123999      Emma     Cheese                         54   \n",
            "7       1        123654      Pete    Sausage                         29   \n",
            "8       1        123865  Mohammed  Pepperoni                         36   \n",
            "9       1        123999      Emma   Mushroom                         44   \n",
            "10      1        123498     Abdul     Cheese                         40   \n",
            "11      1        123654      Pete    Sausage                         38   \n",
            "12      1        123654      Pete  Pepperoni                         47   \n",
            "13      1        123765     Sofie   Mushroom                         55   \n",
            "14      1        123445      Mike     Cheese                         39   \n",
            "15      1        123999      Emma    Sausage                         47   \n",
            "16      1        123765     Sofie   Mushroom                         43   \n",
            "17      1        123865  Mohammed  Pepperoni                         44   \n",
            "18      1        123445      Mike     Cheese                         57   \n",
            "19      1        123498     Abdul    Sausage                         55   \n",
            "20      1        123654      Pete   Mushroom                         50   \n",
            "21      1        123765     Sofie    Sausage                         49   \n",
            "22      1        123445      Mike  Pepperoni                         38   \n",
            "23      1        123999      Emma     Cheese                         44   \n",
            "24      1        123865  Mohammed   Mushroom                         43   \n",
            "25      1        123865  Mohammed  Pepperoni                         33   \n",
            "26      1        123765     Sofie     Cheese                         39   \n",
            "27      1        123498     Abdul    Sausage                         42   \n",
            "28      1        123654      Pete   Mushroom                         30   \n",
            "\n",
            "    Products Produced (Units)  \n",
            "0                         107  \n",
            "1                          20  \n",
            "2                          65  \n",
            "3                          83  \n",
            "4                          58  \n",
            "5                          51  \n",
            "6                           8  \n",
            "7                          65  \n",
            "8                          79  \n",
            "9                          31  \n",
            "10                         33  \n",
            "11                         89  \n",
            "12                         90  \n",
            "13                         17  \n",
            "14                         82  \n",
            "15                         33  \n",
            "16                         46  \n",
            "17                        134  \n",
            "18                         49  \n",
            "19                         38  \n",
            "20                         46  \n",
            "21                         20  \n",
            "22                         67  \n",
            "23                         40  \n",
            "24                         17  \n",
            "25                         62  \n",
            "26                         51  \n",
            "27                         14  \n",
            "28                         85  \n"
          ]
        }
      ]
    },
    {
      "cell_type": "code",
      "source": [
        "print(df_first_shift['Product'])"
      ],
      "metadata": {
        "id": "-N8j6MSFuvqv",
        "outputId": "732a6ecd-aad7-479c-ce55-572a545949c5",
        "colab": {
          "base_uri": "https://localhost:8080/"
        }
      },
      "execution_count": 13,
      "outputs": [
        {
          "output_type": "stream",
          "name": "stdout",
          "text": [
            "0     Pepperoni\n",
            "1        Cheese\n",
            "2      Mushroom\n",
            "3     Pepperoni\n",
            "4      Mushroom\n",
            "5        Cheese\n",
            "6        Cheese\n",
            "7       Sausage\n",
            "8     Pepperoni\n",
            "9      Mushroom\n",
            "10       Cheese\n",
            "11      Sausage\n",
            "12    Pepperoni\n",
            "13     Mushroom\n",
            "14       Cheese\n",
            "15      Sausage\n",
            "16     Mushroom\n",
            "17    Pepperoni\n",
            "18       Cheese\n",
            "19      Sausage\n",
            "20     Mushroom\n",
            "21      Sausage\n",
            "22    Pepperoni\n",
            "23       Cheese\n",
            "24     Mushroom\n",
            "25    Pepperoni\n",
            "26       Cheese\n",
            "27      Sausage\n",
            "28     Mushroom\n",
            "Name: Product, dtype: object\n"
          ]
        }
      ]
    },
    {
      "cell_type": "code",
      "source": [
        "df_all = pd.concat([df_first_shift, df_second_shift, df_third_shift])\n",
        "print(df_all)"
      ],
      "metadata": {
        "id": "Jx2DBqGduxFr",
        "outputId": "52b21996-32e7-4380-bc37-3adda0937a2c",
        "colab": {
          "base_uri": "https://localhost:8080/"
        }
      },
      "execution_count": 20,
      "outputs": [
        {
          "output_type": "stream",
          "name": "stdout",
          "text": [
            "    Shift  Clock Number       Name    Product  Production Run Time (Min)  \\\n",
            "0       1        123654       Pete  Pepperoni                         46   \n",
            "1       1        123498      Abdul     Cheese                         56   \n",
            "2       1        123999       Emma   Mushroom                         42   \n",
            "3       1        123654       Pete  Pepperoni                         47   \n",
            "4       1        123498      Abdul   Mushroom                         54   \n",
            "..    ...           ...        ...        ...                        ...   \n",
            "24      3        322488  Gabrielle   Mushroom                         42   \n",
            "25      3        322486       Omar   Mushroom                         43   \n",
            "26      3        322976      Chuck     Cheese                         47   \n",
            "27      3        322488  Gabrielle    Sausage                         45   \n",
            "28      3        322976      Chuck  Pepperoni                         44   \n",
            "\n",
            "    Products Produced (Units)  \n",
            "0                         107  \n",
            "1                          20  \n",
            "2                          65  \n",
            "3                          83  \n",
            "4                          58  \n",
            "..                        ...  \n",
            "24                        134  \n",
            "25                        132  \n",
            "26                        143  \n",
            "27                        136  \n",
            "28                        132  \n",
            "\n",
            "[87 rows x 6 columns]\n"
          ]
        }
      ]
    },
    {
      "cell_type": "code",
      "source": [
        "pivot = df_all.groupby(['Product','Shift']).size().unstack(fill_value=0)\n",
        "print(pivot)"
      ],
      "metadata": {
        "id": "Qwf1ocTovJDA",
        "outputId": "96c38495-584d-4406-d85e-5bced04d8f29",
        "colab": {
          "base_uri": "https://localhost:8080/"
        }
      },
      "execution_count": 35,
      "outputs": [
        {
          "output_type": "stream",
          "name": "stdout",
          "text": [
            "Shift      1  2  3\n",
            "Product           \n",
            "Cheese     8  8  8\n",
            "Mushroom   8  7  7\n",
            "Pepperoni  7  8  8\n",
            "Sausage    6  6  6\n"
          ]
        }
      ]
    },
    {
      "cell_type": "code",
      "source": [
        "pivot.plot(kind='bar',stacked=True)\n",
        "plt.show()"
      ],
      "metadata": {
        "id": "p74nbOWY08Xy",
        "outputId": "777ecf3f-20e2-4f0b-83d3-8000d11bc824",
        "colab": {
          "base_uri": "https://localhost:8080/",
          "height": 511
        }
      },
      "execution_count": 36,
      "outputs": [
        {
          "output_type": "display_data",
          "data": {
            "text/plain": [
              "<Figure size 640x480 with 1 Axes>"
            ],
            "image/png": "[encoded data removed]"
          },
          "metadata": {}
        }
      ]
    },
    {
      "cell_type": "code",
      "source": [
        "df_all.to_excel('all-data.xlsx')"
      ],
      "metadata": {
        "id": "ix72oPXj1Eqq"
      },
      "execution_count": 37,
      "outputs": []
    }
  ],
  "metadata": {
    "colab": {
      "provenance": []
    },
    "kernelspec": {
      "display_name": "Python 3",
      "name": "python3"
    },
    "language_info": {
      "name": "python"
    }
  },
  "nbformat": 4,
  "nbformat_minor": 0
}